{
 "cells": [
  {
   "cell_type": "code",
   "execution_count": 4,
   "id": "83aae6a8",
   "metadata": {},
   "outputs": [],
   "source": [
    "#first we install pip install pytube\n",
    "from pytube import YouTube #Here YouTube is a function"
   ]
  },
  {
   "cell_type": "markdown",
   "id": "799e6aa2",
   "metadata": {},
   "source": [
    "# Single Video downloading code"
   ]
  },
  {
   "cell_type": "code",
   "execution_count": 5,
   "id": "7402e71b",
   "metadata": {},
   "outputs": [
    {
     "name": "stdout",
     "output_type": "stream",
     "text": [
      "Data Breach 🤯\n"
     ]
    }
   ],
   "source": [
    "video_link=\"https://www.youtube.com/shorts/kHf8OZy0mTU\"\n",
    "youtube_video=YouTube(video_link) #youtube_video is variable and store the record of link\n",
    "print(youtube_video.title) #this will give the title of video"
   ]
  },
  {
   "cell_type": "code",
   "execution_count": 6,
   "id": "6525bedd",
   "metadata": {},
   "outputs": [
    {
     "name": "stdout",
     "output_type": "stream",
     "text": [
      "https://i.ytimg.com/vi/kHf8OZy0mTU/sd2.jpg?sqp=-oaymwEoCIAFEOAD8quKqQMcGADwAQH4Ac4FgAKACooCDAgAEAEYfyAzKDUwDw==&rs=AOn4CLBmXmqf68tYgcsmh6lwtER7zgkjJg\n"
     ]
    }
   ],
   "source": [
    "#for video thumbnail \n",
    "print(youtube_video.thumbnail_url)"
   ]
  },
  {
   "cell_type": "code",
   "execution_count": 7,
   "id": "12021093",
   "metadata": {},
   "outputs": [
    {
     "name": "stderr",
     "output_type": "stream",
     "text": [
      "C:\\Users\\Latif Computers\\AppData\\Local\\Temp\\ipykernel_9772\\83884432.py:2: DeprecationWarning: Call to deprecated function all (This object can be treated as a list, all() is useless).\n",
      "  video=youtube_video.streams.all()   #give video streaming\n"
     ]
    },
    {
     "name": "stdout",
     "output_type": "stream",
     "text": [
      "(0, <Stream: itag=\"17\" mime_type=\"video/3gpp\" res=\"144p\" fps=\"8fps\" vcodec=\"mp4v.20.3\" acodec=\"mp4a.40.2\" progressive=\"True\" type=\"video\">)\n",
      "(1, <Stream: itag=\"18\" mime_type=\"video/mp4\" res=\"360p\" fps=\"30fps\" vcodec=\"avc1.42001E\" acodec=\"mp4a.40.2\" progressive=\"True\" type=\"video\">)\n",
      "(2, <Stream: itag=\"22\" mime_type=\"video/mp4\" res=\"720p\" fps=\"30fps\" vcodec=\"avc1.64001F\" acodec=\"mp4a.40.2\" progressive=\"True\" type=\"video\">)\n",
      "(3, <Stream: itag=\"299\" mime_type=\"video/mp4\" res=\"1080p\" fps=\"60fps\" vcodec=\"avc1.64002a\" progressive=\"False\" type=\"video\">)\n",
      "(4, <Stream: itag=\"303\" mime_type=\"video/webm\" res=\"1080p\" fps=\"60fps\" vcodec=\"vp9\" progressive=\"False\" type=\"video\">)\n",
      "(5, <Stream: itag=\"298\" mime_type=\"video/mp4\" res=\"720p\" fps=\"60fps\" vcodec=\"avc1.640020\" progressive=\"False\" type=\"video\">)\n",
      "(6, <Stream: itag=\"302\" mime_type=\"video/webm\" res=\"720p\" fps=\"60fps\" vcodec=\"vp9\" progressive=\"False\" type=\"video\">)\n",
      "(7, <Stream: itag=\"135\" mime_type=\"video/mp4\" res=\"480p\" fps=\"30fps\" vcodec=\"avc1.4d401f\" progressive=\"False\" type=\"video\">)\n",
      "(8, <Stream: itag=\"244\" mime_type=\"video/webm\" res=\"480p\" fps=\"30fps\" vcodec=\"vp9\" progressive=\"False\" type=\"video\">)\n",
      "(9, <Stream: itag=\"134\" mime_type=\"video/mp4\" res=\"360p\" fps=\"30fps\" vcodec=\"avc1.4d401e\" progressive=\"False\" type=\"video\">)\n",
      "(10, <Stream: itag=\"243\" mime_type=\"video/webm\" res=\"360p\" fps=\"30fps\" vcodec=\"vp9\" progressive=\"False\" type=\"video\">)\n",
      "(11, <Stream: itag=\"133\" mime_type=\"video/mp4\" res=\"240p\" fps=\"30fps\" vcodec=\"avc1.4d4015\" progressive=\"False\" type=\"video\">)\n",
      "(12, <Stream: itag=\"242\" mime_type=\"video/webm\" res=\"240p\" fps=\"30fps\" vcodec=\"vp9\" progressive=\"False\" type=\"video\">)\n",
      "(13, <Stream: itag=\"160\" mime_type=\"video/mp4\" res=\"144p\" fps=\"30fps\" vcodec=\"avc1.4d400c\" progressive=\"False\" type=\"video\">)\n",
      "(14, <Stream: itag=\"278\" mime_type=\"video/webm\" res=\"144p\" fps=\"30fps\" vcodec=\"vp9\" progressive=\"False\" type=\"video\">)\n",
      "(15, <Stream: itag=\"139\" mime_type=\"audio/mp4\" abr=\"48kbps\" acodec=\"mp4a.40.5\" progressive=\"False\" type=\"audio\">)\n",
      "(16, <Stream: itag=\"140\" mime_type=\"audio/mp4\" abr=\"128kbps\" acodec=\"mp4a.40.2\" progressive=\"False\" type=\"audio\">)\n",
      "(17, <Stream: itag=\"249\" mime_type=\"audio/webm\" abr=\"50kbps\" acodec=\"opus\" progressive=\"False\" type=\"audio\">)\n",
      "(18, <Stream: itag=\"250\" mime_type=\"audio/webm\" abr=\"70kbps\" acodec=\"opus\" progressive=\"False\" type=\"audio\">)\n",
      "(19, <Stream: itag=\"251\" mime_type=\"audio/webm\" abr=\"160kbps\" acodec=\"opus\" progressive=\"False\" type=\"audio\">)\n",
      "Enter the video streaming index  0:144p  1:360p 2:720p 3:1080p :0\n",
      "Video is Succefully downloaded\n"
     ]
    }
   ],
   "source": [
    "#For downloading video from youtube\n",
    "video=youtube_video.streams.all()   #give video streaming \n",
    "video_stream_list=list(enumerate(video))    #enumerate give the index and list of video\n",
    "for j in video_stream_list:\n",
    "    print(j) #give a streaming list and index\n",
    "stream=int(input(\"Enter the video streaming index  0:144p  1:360p 2:720p 3:1080p :\"))\n",
    "video[stream].download()\n",
    "print(\"Video is Succefully downloaded\") "
   ]
  },
  {
   "cell_type": "code",
   "execution_count": 8,
   "id": "e400bacd",
   "metadata": {},
   "outputs": [],
   "source": [
    "#For downloding only Audio\n",
    "video=youtube_video.streams.filter(only_audio=True)  #this will download audio press 0: 48kbps  1:128kbps\n"
   ]
  },
  {
   "cell_type": "markdown",
   "id": "75b93fef",
   "metadata": {},
   "source": [
    "# Playist downloading code"
   ]
  },
  {
   "cell_type": "code",
   "execution_count": null,
   "id": "00f57f83",
   "metadata": {},
   "outputs": [
    {
     "name": "stdout",
     "output_type": "stream",
     "text": [
      "Please Input Your Playlist Url :https://www.youtube.com/watch?v=JFuMei9Wwk4&list=PLTjRvDozrdlyjm_nKyYt4b5C1zx4Xdaut&index=3\n",
      "Downloading :Java Tutorials\n"
     ]
    }
   ],
   "source": [
    "#For downloading complete playlist\n",
    "from pytube import Playlist #Here Playlist is a function\n",
    "inputPlaylist=input(\"Please Input Your Playlist Url :\")\n",
    "#video_playist=Playlist(\"https://www.youtube.com/watch?v=_nmm0nZqIIY&list=PLTjRvDozrdlyjm_nKyYt4b5C1zx4Xdaut\")\n",
    "video_playist=Playlist(inputPlaylist)\n",
    "print(f'Downloading :{video_playist.title}')\n",
    "\n",
    "#forloop is used for downloading all playlist\n",
    "for video in video_playist.videos:\n",
    "    video.streams.first().download()"
   ]
  },
  {
   "cell_type": "code",
   "execution_count": null,
   "id": "032af23e",
   "metadata": {},
   "outputs": [],
   "source": []
  },
  {
   "cell_type": "code",
   "execution_count": null,
   "id": "228129d2",
   "metadata": {},
   "outputs": [],
   "source": []
  },
  {
   "cell_type": "code",
   "execution_count": null,
   "id": "6dd51154",
   "metadata": {},
   "outputs": [],
   "source": []
  }
 ],
 "metadata": {
  "kernelspec": {
   "display_name": "Python 3 (ipykernel)",
   "language": "python",
   "name": "python3"
  },
  "language_info": {
   "codemirror_mode": {
    "name": "ipython",
    "version": 3
   },
   "file_extension": ".py",
   "mimetype": "text/x-python",
   "name": "python",
   "nbconvert_exporter": "python",
   "pygments_lexer": "ipython3",
   "version": "3.10.4"
  }
 },
 "nbformat": 4,
 "nbformat_minor": 5
}
